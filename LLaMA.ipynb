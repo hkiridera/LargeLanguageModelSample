{
 "cells": [
  {
   "cell_type": "markdown",
   "id": "2eb5ec7c",
   "metadata": {},
   "source": [
    "インストールパッケージのバージョン確認"
   ]
  },
  {
   "cell_type": "code",
   "execution_count": 1,
   "id": "61910ec3",
   "metadata": {},
   "outputs": [
    {
     "name": "stdout",
     "output_type": "stream",
     "text": [
      "2.12.0\n",
      "4.28.0.dev0\n"
     ]
    }
   ],
   "source": [
    "import tensorflow as tf\n",
    "import transformers as tr\n",
    "print(tf.__version__)\n",
    "print(tr.__version__)"
   ]
  },
  {
   "cell_type": "code",
   "execution_count": 2,
   "id": "c780f27d",
   "metadata": {},
   "outputs": [
    {
     "name": "stdout",
     "output_type": "stream",
     "text": [
      "Git LFS initialized.\n",
      "fatal: destination path 'llama-7b-hf' already exists and is not an empty directory.\n"
     ]
    }
   ],
   "source": [
    "!git lfs install\n",
    "!git clone https://huggingface.co/decapoda-research/llama-7b-hf"
   ]
  },
  {
   "cell_type": "markdown",
   "id": "8122859a",
   "metadata": {},
   "source": [
    "2023/4/1時点ではHugging Faceに上がっているLLaMAのファイルにバグ(名前変更による修正もれ?)があるため、手動で設定を変更します。\n",
    "\n",
    "tokenizer_classを`LLaMATokenizer`から`LlamaTokenizer`に変更します。  \n",
    "\n",
    " ```bash\n",
    " $ vi LargeLanguageModel/llama-7b-hf/tokenizer_config.json\n",
    " ```\n",
    " ```json\n",
    " {\"bos_token\": \"\", \"eos_token\": \"\", \"model_max_length\": 1000000000000000019884624838656, \"tokenizer_class\": \"LlamaTokenizer\", \"unk_token\": \"\"}\n",
    " ```"
   ]
  },
  {
   "cell_type": "code",
   "execution_count": 1,
   "id": "cad264aa",
   "metadata": {},
   "outputs": [
    {
     "data": {
      "application/vnd.jupyter.widget-view+json": {
       "model_id": "e3ecec47385b4c5ea312ace12f793f00",
       "version_major": 2,
       "version_minor": 0
      },
      "text/plain": [
       "Loading checkpoint shards:   0%|          | 0/33 [00:00<?, ?it/s]"
      ]
     },
     "metadata": {},
     "output_type": "display_data"
    }
   ],
   "source": [
    "from transformers import AutoTokenizer, AutoModelForCausalLM\n",
    "\n",
    "tokenizer = AutoTokenizer.from_pretrained(\"./llama-7b-hf/\", config=\"./llama-7b-hf/tokenizer_config.json\")\n",
    "model = AutoModelForCausalLM.from_pretrained(\"./llama-7b-hf/\")"
   ]
  },
  {
   "cell_type": "code",
   "execution_count": 4,
   "id": "97a0bb63",
   "metadata": {},
   "outputs": [
    {
     "name": "stdout",
     "output_type": "stream",
     "text": [
      " 今日の晩ご飯は\"臼井毛貝餅\"です\n",
      "CPU times: user 22.3 s, sys: 4min 15s, total: 4min 37s\n",
      "Wall time: 26min 19s\n"
     ]
    }
   ],
   "source": [
    "%%time\n",
    "# 生成する文章の入力と生成パラメータの設定\n",
    "prompt = \"今日の晩ご飯は\"\n",
    "length = 30\n",
    "temperature = 0.8\n",
    "\n",
    "# トークン化とテンソル変換\n",
    "input_ids = tokenizer.encode(prompt, return_tensors=\"pt\")\n",
    "input_ids = input_ids.to(model.device)\n",
    "\n",
    "# 生成の実行\n",
    "output = model.generate(input_ids, do_sample=True, max_length=length, temperature=temperature)\n",
    "\n",
    "# 生成された文章のデコード\n",
    "generated_text = tokenizer.decode(output[0], skip_special_tokens=True)\n",
    "\n",
    "# 生成された文章の出力\n",
    "print(generated_text)"
   ]
  },
  {
   "cell_type": "code",
   "execution_count": null,
   "id": "7ff88897",
   "metadata": {},
   "outputs": [],
   "source": []
  }
 ],
 "metadata": {
  "kernelspec": {
   "display_name": "Python 3 (ipykernel)",
   "language": "python",
   "name": "python3"
  },
  "language_info": {
   "codemirror_mode": {
    "name": "ipython",
    "version": 3
   },
   "file_extension": ".py",
   "mimetype": "text/x-python",
   "name": "python",
   "nbconvert_exporter": "python",
   "pygments_lexer": "ipython3",
   "version": "3.9.16"
  }
 },
 "nbformat": 4,
 "nbformat_minor": 5
}
