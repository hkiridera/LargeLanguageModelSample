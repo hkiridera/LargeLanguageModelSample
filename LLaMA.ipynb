{
 "cells": [
  {
   "cell_type": "markdown",
   "id": "2eb5ec7c",
   "metadata": {},
   "source": [
    "インストールパッケージのバージョン確認"
   ]
  },
  {
   "cell_type": "code",
   "execution_count": 1,
   "id": "61910ec3",
   "metadata": {},
   "outputs": [
    {
     "name": "stdout",
     "output_type": "stream",
     "text": [
      "2.12.0\n",
      "4.28.0.dev0\n"
     ]
    }
   ],
   "source": [
    "import tensorflow as tf\n",
    "import transformers as tr\n",
    "print(tf.__version__)\n",
    "print(tr.__version__)"
   ]
  },
  {
   "cell_type": "code",
   "execution_count": 2,
   "id": "7b3b4587",
   "metadata": {},
   "outputs": [
    {
     "name": "stdout",
     "output_type": "stream",
     "text": [
      "Git LFS initialized.\n",
      "fatal: destination path 'llama-7b-hf' already exists and is not an empty directory.\n"
     ]
    }
   ],
   "source": [
    "!git lfs install\n",
    "!git clone https://huggingface.co/decapoda-research/llama-7b-hf"
   ]
  },
  {
   "cell_type": "markdown",
   "id": "ab84bcb6",
   "metadata": {},
   "source": [
    "2023/4/1時点ではHugging Faceに上がっているLLaMAのファイルにバグ(名前変更による修正もれ?)があるため、手動で設定を変更します。\n",
    "\n",
    "tokenizer_classを`LLaMATokenizer`から`LlamaTokenizer`に変更します。  \n",
    "\n",
    " ```bash\n",
    " $ vi LargeLanguageModel/llama-7b-hf/tokenizer_config.json\n",
    " ```\n",
    " ```json\n",
    " {\"bos_token\": \"\", \"eos_token\": \"\", \"model_max_length\": 1000000000000000019884624838656, \"tokenizer_class\": \"LlamaTokenizer\", \"unk_token\": \"\"}\n",
    " ```"
   ]
  },
  {
   "cell_type": "markdown",
   "id": "c85501c5",
   "metadata": {},
   "source": [
    "M1 MacのGPUに対応するため"
   ]
  },
  {
   "cell_type": "code",
   "execution_count": 2,
   "id": "e62d8942",
   "metadata": {},
   "outputs": [],
   "source": [
    "import torch\n",
    "import tensorflow as tf\n",
    "\n",
    "device = torch.device(\"mps\")"
   ]
  },
  {
   "cell_type": "code",
   "execution_count": 3,
   "id": "51592341",
   "metadata": {},
   "outputs": [
    {
     "name": "stderr",
     "output_type": "stream",
     "text": [
      "normalizer.cc(51) LOG(INFO) precompiled_charsmap is empty. use identity normalization.\n"
     ]
    },
    {
     "data": {
      "application/vnd.jupyter.widget-view+json": {
       "model_id": "b87468c8bcb5460794282af8c2a5d0b5",
       "version_major": 2,
       "version_minor": 0
      },
      "text/plain": [
       "Loading checkpoint shards:   0%|          | 0/33 [00:00<?, ?it/s]"
      ]
     },
     "metadata": {},
     "output_type": "display_data"
    }
   ],
   "source": [
    "from transformers import AutoTokenizer, AutoModelForCausalLM, AutoConfig\n",
    "\n",
    "tokenizer = AutoTokenizer.from_pretrained(\"./llama-7b-hf/\", config=\"./llama-7b-hf/tokenizer_config.json\")\n",
    "config = AutoConfig.from_pretrained(\"./llama-7b-hf/\", use_metal=True)\n",
    "\n",
    "model = AutoModelForCausalLM.from_pretrained(\"./llama-7b-hf/\", config=config).to(device)"
   ]
  },
  {
   "cell_type": "code",
   "execution_count": 4,
   "id": "780c31e6",
   "metadata": {},
   "outputs": [
    {
     "name": "stderr",
     "output_type": "stream",
     "text": [
      "/Users/master/mambaforge/envs/ml/lib/python3.9/site-packages/transformers/generation/utils.py:1219: UserWarning: You have modified the pretrained model configuration to control generation. This is a deprecated strategy to control generation and will be removed soon, in a future version. Please use a generation configuration file (see https://huggingface.co/docs/transformers/main_classes/text_generation)\n",
      "  warnings.warn(\n"
     ]
    },
    {
     "name": "stdout",
     "output_type": "stream",
     "text": [
      " 今日の晩ご飯はありません。私は、晩飯\n",
      "CPU times: user 4.5 s, sys: 3min 43s, total: 3min 47s\n",
      "Wall time: 1h 29min 23s\n"
     ]
    }
   ],
   "source": [
    "%%time\n",
    "import torch\n",
    "\n",
    "# 生成する文章の入力と生成パラメータの設定\n",
    "prompt = \"今日の晩ご飯は\"\n",
    "length = 30\n",
    "temperature = 0.8\n",
    "\n",
    "# トークン化とテンソル変換\n",
    "input_ids = tokenizer.encode(prompt, return_tensors=\"pt\")\n",
    "#input_ids = input_ids.to(model.device)\n",
    "input_ids = input_ids.to(device)\n",
    "\n",
    "# 生成の実行\n",
    "output = model.generate(\n",
    "    input_ids, \n",
    "    do_sample=True, \n",
    "    max_length=length, \n",
    "    temperature=temperature,\n",
    ")\n",
    "\n",
    "# 生成された文章のデコード\n",
    "generated_text = tokenizer.decode(output[0], skip_special_tokens=True)\n",
    "\n",
    "# 生成された文章の出力\n",
    "print(generated_text)"
   ]
  },
  {
   "cell_type": "code",
   "execution_count": null,
   "id": "465ebd58",
   "metadata": {},
   "outputs": [],
   "source": []
  }
 ],
 "metadata": {
  "kernelspec": {
   "display_name": "Python 3 (ipykernel)",
   "language": "python",
   "name": "python3"
  },
  "language_info": {
   "codemirror_mode": {
    "name": "ipython",
    "version": 3
   },
   "file_extension": ".py",
   "mimetype": "text/x-python",
   "name": "python",
   "nbconvert_exporter": "python",
   "pygments_lexer": "ipython3",
   "version": "3.9.16"
  }
 },
 "nbformat": 4,
 "nbformat_minor": 5
}
